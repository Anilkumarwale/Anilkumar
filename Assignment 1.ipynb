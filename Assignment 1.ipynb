{
 "cells": [
  {
   "cell_type": "code",
   "execution_count": null,
   "id": "dcfd8ea6",
   "metadata": {},
   "outputs": [],
   "source": [
    "1. In the below elements which of them are values or an expression? eg:- values can be integer or string and expressions will be mathematical operators.\n",
    "Answer:\n",
    "*       - expression\n",
    "'hello' - value\n",
    "-87.8   - value\n",
    "-       - expression\n",
    "/       - expression\n",
    "+       - expression\n",
    "6       - value\n"
   ]
  },
  {
   "cell_type": "code",
   "execution_count": null,
   "id": "4aa1798d",
   "metadata": {},
   "outputs": [],
   "source": [
    "2. What is the difference between string and variable?\n",
    "Answer:\n",
    "    Strings: string is a type of data which can be written in quotes such: \"anil\", 'anil'.\n",
    "    Variable: Variable is an kind of entity, which helps to store data in a main memory."
   ]
  },
  {
   "cell_type": "code",
   "execution_count": null,
   "id": "58abfa3f",
   "metadata": {},
   "outputs": [],
   "source": [
    "3. Describe three different data types.\n",
    "Answer:\n",
    "    Integers: Integers can stores only numerical values.\n",
    "    Float: Float can stores only floating values like 2.3,555.6 and etc.\n",
    "    Tuple: Tuple can be used to store multiple data items in a single variable."
   ]
  },
  {
   "cell_type": "code",
   "execution_count": null,
   "id": "7aed3248",
   "metadata": {},
   "outputs": [],
   "source": [
    "4. What is an expression made up of? What do all expressions do?\n",
    "Answer:\n",
    "    Expression is made up of values, varibles, and mathematical operations.\n",
    "     eg: a = 20 + 50 expression are used to evaluate the values and to display the result on the screen.\n",
    "            "
   ]
  },
  {
   "cell_type": "code",
   "execution_count": null,
   "id": "11616b66",
   "metadata": {},
   "outputs": [],
   "source": [
    "5. This assignment statements, like spam = 10. What is the difference between an expression and a statement?\n",
    "Answer:\n",
    "    Expression is made up of values, variables, and mathematical operators where as Statement is like a command that python \n",
    "    interpreter executes like print."
   ]
  },
  {
   "cell_type": "code",
   "execution_count": null,
   "id": "746cc46d",
   "metadata": {},
   "outputs": [],
   "source": [
    "6. After running the following code, what does the variable bacon contain?\n",
    "bacon = 22\n",
    "bacon + 1\n",
    "Answer:\n",
    "    bacon = 23"
   ]
  },
  {
   "cell_type": "code",
   "execution_count": 2,
   "id": "a27833ae",
   "metadata": {},
   "outputs": [
    {
     "data": {
      "text/plain": [
       "23"
      ]
     },
     "execution_count": 2,
     "metadata": {},
     "output_type": "execute_result"
    }
   ],
   "source": [
    "bacon = 22\n",
    "bacon + 1"
   ]
  },
  {
   "cell_type": "code",
   "execution_count": null,
   "id": "74608dc9",
   "metadata": {},
   "outputs": [],
   "source": [
    "7. What should the values of the following two terms be?\n",
    "'spam' + 'spamspam'\n",
    "'spam' * 3\n",
    "Answer:\n",
    "    'spamspamspam'"
   ]
  },
  {
   "cell_type": "code",
   "execution_count": 3,
   "id": "7184d346",
   "metadata": {},
   "outputs": [
    {
     "data": {
      "text/plain": [
       "'spamspamspam'"
      ]
     },
     "execution_count": 3,
     "metadata": {},
     "output_type": "execute_result"
    }
   ],
   "source": [
    "'spam'*3"
   ]
  },
  {
   "cell_type": "code",
   "execution_count": null,
   "id": "016e5714",
   "metadata": {},
   "outputs": [],
   "source": [
    "8. Why is eggs a valid variable name while 100 is invalid?\n",
    "Answer:\n",
    "    Because we cant start a variable with an integers or numbers."
   ]
  },
  {
   "cell_type": "code",
   "execution_count": null,
   "id": "1aeb2e89",
   "metadata": {},
   "outputs": [],
   "source": [
    "9. What three functions can be used to get the integer, floating-point number, or string version of a value?\n",
    "Answer:\n",
    "    int(), str(), float()"
   ]
  },
  {
   "cell_type": "code",
   "execution_count": null,
   "id": "70582166",
   "metadata": {},
   "outputs": [],
   "source": [
    "10. Why does this expression cause an error? How can you fix it?\n",
    "'I have eaten ' + 99 + ' burritos.'\n",
    "Answer:\n",
    "    Because 99 is an integer it cannot be concatenated with strings.if we need to concatenate it will need to typecasting."
   ]
  }
 ],
 "metadata": {
  "kernelspec": {
   "display_name": "Python 3 (ipykernel)",
   "language": "python",
   "name": "python3"
  },
  "language_info": {
   "codemirror_mode": {
    "name": "ipython",
    "version": 3
   },
   "file_extension": ".py",
   "mimetype": "text/x-python",
   "name": "python",
   "nbconvert_exporter": "python",
   "pygments_lexer": "ipython3",
   "version": "3.9.7"
  }
 },
 "nbformat": 4,
 "nbformat_minor": 5
}
